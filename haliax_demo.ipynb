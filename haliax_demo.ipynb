{
 "cells": [
  {
   "cell_type": "code",
   "execution_count": null,
   "metadata": {},
   "outputs": [],
   "source": [
    "import haliax as hax  # this amuses me more than it should\n",
    "from transformers import AutoTokenizer\n",
    "\n",
    "tokenizer = AutoTokenizer.from_pretrained(\"gpt2\")\n",
    "\n",
    "# smaller versions of the numbers from the above table\n",
    "Layer = hax.Axis(\"layer\", 4)\n",
    "Head = hax.Axis(\"head\", 8)\n",
    "Key = hax.Axis(\"key\", 16)\n",
    "Embed = hax.Axis(\"embed\", 32)\n",
    "Mlp = hax.Axis(\"mlp\", Embed.size * 4)  # this is the \"feed-forward size\", above\n",
    "\n",
    "# other numbers we need\n",
    "Batch = hax.Axis(\"batch\", 8)\n",
    "Pos = hax.Axis(\"position\", 128)  # how long each sequence is\n",
    "Vocab = hax.Axis(\"vocab\", len(tokenizer))"
   ]
  },
  {
   "cell_type": "code",
   "execution_count": null,
   "metadata": {},
   "outputs": [],
   "source": [
    "import jax.numpy as jnp\n",
    "\n",
    "bias = hax.zeros(Mlp)\n",
    "weight = hax.ones((Embed, Mlp))\n",
    "word_embedding = hax.zeros((Vocab, Embed))\n",
    "data = hax.ones((Batch, Pos), dtype=jnp.int32)\n",
    "layer_indices = hax.arange(Layer)  # 0...Layer.size"
   ]
  },
  {
   "cell_type": "code",
   "execution_count": null,
   "metadata": {},
   "outputs": [],
   "source": []
  },
  {
   "cell_type": "code",
   "execution_count": null,
   "metadata": {},
   "outputs": [],
   "source": [
    "a = jnp.zeros((32, 32 * 4))\n",
    "named_a = hax.named(a, (Embed, Mlp))\n",
    "named_a = hax.named(a, (\"embed\", \"mlp\"))  # ok, b/c axis sizes can be inferred"
   ]
  },
  {
   "cell_type": "code",
   "execution_count": null,
   "metadata": {},
   "outputs": [],
   "source": [
    "import jax.random\n",
    "from jax.random import PRNGKey\n",
    "\n",
    "base_key = PRNGKey(0)\n",
    "k_w, k_e, k_d = jax.random.split(base_key, 3)  # keys for each of the generations we do below\n"
   ]
  },
  {
   "cell_type": "code",
   "execution_count": null,
   "metadata": {},
   "outputs": [],
   "source": [
    "\n",
    "weight = hax.random.normal(k_w, (Embed, Mlp))\n",
    "word_embedding = hax.random.normal(k_e, (Vocab, Embed))\n",
    "data = hax.random.randint(k_d, (Batch, Pos), 0, Vocab.size)  # samples from [0, Vocab)"
   ]
  },
  {
   "cell_type": "code",
   "execution_count": null,
   "metadata": {},
   "outputs": [],
   "source": [
    "m_weight = hax.mean(weight, Embed) # average each of the 'Embed' rows?\n",
    "m_weight = hax.mean(weight, \"embed\")  # also ok\n",
    "total = hax.sum(weight, (Embed, Mlp))  # equivalent to hax.sum(weight)"
   ]
  },
  {
   "cell_type": "code",
   "execution_count": null,
   "metadata": {},
   "outputs": [],
   "source": [
    "M = hax.Axis(\"M\", 5)\n",
    "N = hax.Axis(\"N\", 4)\n",
    "\n",
    "a = hax.arange(M)\n",
    "b = hax.arange(N)\n",
    "\n",
    "print(a)\n",
    "print(b)\n",
    "\n",
    "c = a.broadcast_axis(N) * b\n",
    "print(c.axes)\n",
    "print(c.array)"
   ]
  },
  {
   "cell_type": "code",
   "execution_count": null,
   "metadata": {},
   "outputs": [],
   "source": [
    "f = a.broadcast_axis(N)"
   ]
  },
  {
   "cell_type": "code",
   "execution_count": null,
   "metadata": {},
   "outputs": [],
   "source": [
    "weight = hax.random.normal(k_w, (Embed, Mlp))\n",
    "word_embedding = hax.random.normal(k_e, (Vocab, Embed)) # (column, row)\n",
    "big_embed = hax.dot(\"embed\", word_embedding, weight)"
   ]
  },
  {
   "cell_type": "code",
   "execution_count": null,
   "metadata": {},
   "outputs": [],
   "source": [
    "batched_weight = hax.random.normal(k_w, (Batch, Embed, Mlp))\n",
    "batched_embed = hax.random.normal(k_e, (Batch, Vocab, Embed))\n",
    "\n",
    "batched_big_embed = hax.dot(\"embed\", batched_embed, batched_weight)\n",
    "\n",
    "assert batched_big_embed.axes == (Batch, Vocab, Mlp)"
   ]
  },
  {
   "cell_type": "code",
   "execution_count": 2,
   "metadata": {},
   "outputs": [
    {
     "ename": "NameError",
     "evalue": "name 'hax' is not defined",
     "output_type": "error",
     "traceback": [
      "\u001b[0;31m---------------------------------------------------------------------------\u001b[0m",
      "\u001b[0;31mNameError\u001b[0m                                 Traceback (most recent call last)",
      "Cell \u001b[0;32mIn[2], line 1\u001b[0m\n\u001b[0;32m----> 1\u001b[0m help(hax\u001b[39m.\u001b[39mnn\u001b[39m.\u001b[39mEmbedding\u001b[39m.\u001b[39minit)\n",
      "\u001b[0;31mNameError\u001b[0m: name 'hax' is not defined"
     ]
    }
   ],
   "source": [
    "from jax.sharding import Mesh, NamedSharding, PartitionSpec\n",
    "import numpy as onp\n",
    "\n",
    "mesh = Mesh(onp.array(jax.devices()), (\"data\",))\n",
    "print(jax.devices())\n",
    "\n",
    "# quick little utility to visualize meshes themselves\n",
    "# this piggybacks on a nice visualization in Jax.\n",
    "def visualize_mesh(mesh):\n",
    "  arr = jnp.zeros(mesh.devices.shape)\n",
    "  arr = jax.device_put(arr, NamedSharding(mesh, PartitionSpec(*mesh.axis_names)))\n",
    "  jax.debug.visualize_array_sharding(arr)\n",
    "\n",
    "visualize_mesh(mesh)"
   ]
  },
  {
   "cell_type": "code",
   "execution_count": null,
   "metadata": {},
   "outputs": [],
   "source": [
    "\n",
    "Batch = hax.Axis(\"batch\", 128)\n",
    "Feature = hax.Axis(\"feature\", 64)\n",
    "\n",
    "x = hax.random.uniform(PRNGKey(0), (Batch, Feature))\n",
    "y = hax.random.uniform(PRNGKey(1), Batch)\n",
    "\n",
    "def mse(pred, target):\n",
    "    return hax.mean((pred - target) * (pred - target), axis=Batch)\n",
    "\n",
    "W = hax.random.uniform(PRNGKey(2), (Feature,))\n",
    "\n",
    "y_pred = hax.dot(Feature, x, W)"
   ]
  },
  {
   "cell_type": "code",
   "execution_count": null,
   "metadata": {},
   "outputs": [],
   "source": [
    "mse(y_pred, y)"
   ]
  },
  {
   "cell_type": "code",
   "execution_count": null,
   "metadata": {},
   "outputs": [],
   "source": [
    "help(hax.dot)"
   ]
  },
  {
   "cell_type": "code",
   "execution_count": null,
   "metadata": {},
   "outputs": [],
   "source": [
    "query = hax.random.uniform(PRNGKey(0), (Pos, Key))\n",
    "key = hax.random.uniform(PRNGKey(1), (Key, KPos))"
   ]
  },
  {
   "cell_type": "code",
   "execution_count": null,
   "metadata": {},
   "outputs": [],
   "source": [
    "KPos = Pos.alias(\"key_position\")"
   ]
  },
  {
   "cell_type": "code",
   "execution_count": null,
   "metadata": {},
   "outputs": [],
   "source": [
    "import jax.numpy as jnp\n",
    "jnp.concatenate(jnp.array([]), jnp.array([1]))"
   ]
  },
  {
   "cell_type": "code",
   "execution_count": 3,
   "metadata": {},
   "outputs": [
    {
     "data": {
      "text/plain": [
       "typing.Union[jax.Array, numpy.ndarray, numpy.bool_, numpy.number, typing.Iterable[ForwardRef('ArrayTree')], typing.Mapping[typing.Any, ForwardRef('ArrayTree')]]"
      ]
     },
     "execution_count": 3,
     "metadata": {},
     "output_type": "execute_result"
    }
   ],
   "source": [
    "import optax\n",
    "optax.OptState"
   ]
  },
  {
   "cell_type": "code",
   "execution_count": 1,
   "metadata": {},
   "outputs": [
    {
     "ename": "NameError",
     "evalue": "name 'optax' is not defined",
     "output_type": "error",
     "traceback": [
      "\u001b[0;31m---------------------------------------------------------------------------\u001b[0m",
      "\u001b[0;31mNameError\u001b[0m                                 Traceback (most recent call last)",
      "Cell \u001b[0;32mIn[1], line 1\u001b[0m\n\u001b[0;32m----> 1\u001b[0m \u001b[39mtype\u001b[39m(optax\u001b[39m.\u001b[39mlinear_schedule)\n",
      "\u001b[0;31mNameError\u001b[0m: name 'optax' is not defined"
     ]
    }
   ],
   "source": []
  },
  {
   "cell_type": "code",
   "execution_count": 4,
   "metadata": {},
   "outputs": [],
   "source": [
    "import jmp"
   ]
  },
  {
   "cell_type": "code",
   "execution_count": 5,
   "metadata": {},
   "outputs": [
    {
     "data": {
      "text/plain": [
       "Policy(param_dtype=<class 'jax.numpy.float32'>, compute_dtype=<class 'jax.numpy.float32'>, output_dtype=<class 'jax.numpy.float32'>)"
      ]
     },
     "execution_count": 5,
     "metadata": {},
     "output_type": "execute_result"
    }
   ],
   "source": [
    "jmp.get_policy(\"f32\")"
   ]
  },
  {
   "cell_type": "code",
   "execution_count": null,
   "metadata": {},
   "outputs": [],
   "source": []
  }
 ],
 "metadata": {
  "kernelspec": {
   "display_name": "jax",
   "language": "python",
   "name": "python3"
  },
  "language_info": {
   "codemirror_mode": {
    "name": "ipython",
    "version": 3
   },
   "file_extension": ".py",
   "mimetype": "text/x-python",
   "name": "python",
   "nbconvert_exporter": "python",
   "pygments_lexer": "ipython3",
   "version": "3.11.4"
  },
  "orig_nbformat": 4
 },
 "nbformat": 4,
 "nbformat_minor": 2
}
