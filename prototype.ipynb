{
 "cells": [
  {
   "cell_type": "code",
   "execution_count": 40,
   "metadata": {},
   "outputs": [],
   "source": []
  },
  {
   "cell_type": "code",
   "execution_count": 41,
   "metadata": {},
   "outputs": [
    {
     "name": "stdout",
     "output_type": "stream",
     "text": [
      "Loading pre-trained gpt2 weights...\n"
     ]
    }
   ],
   "source": [
    "config = GPT2Config.get_pretrained_config(model_type='gpt2')"
   ]
  },
  {
   "cell_type": "code",
   "execution_count": 42,
   "metadata": {},
   "outputs": [],
   "source": [
    "gpt2 = GPT2.init(config, jax.random.PRNGKey(0))"
   ]
  },
  {
   "cell_type": "code",
   "execution_count": 43,
   "metadata": {},
   "outputs": [
    {
     "data": {
      "text/plain": [
       "__main__.GPT2"
      ]
     },
     "execution_count": 43,
     "metadata": {},
     "output_type": "execute_result"
    }
   ],
   "source": [
    "type(gpt2)"
   ]
  },
  {
   "cell_type": "code",
   "execution_count": 78,
   "metadata": {},
   "outputs": [
    {
     "data": {
      "text/plain": [
       "NamedArray(array=Array([1., 1., 1., ..., 1., 1., 1.], dtype=float32), axes=(Axis(name='position', size=1024),))"
      ]
     },
     "execution_count": 78,
     "metadata": {},
     "output_type": "execute_result"
    }
   ],
   "source": [
    "arr"
   ]
  },
  {
   "cell_type": "code",
   "execution_count": 79,
   "metadata": {},
   "outputs": [
    {
     "data": {
      "text/plain": [
       "NamedArray(array=Array([0., 1., 1., ..., 1., 1., 1.], dtype=float32), axes=(Axis(name='ex', size=1025),))"
      ]
     },
     "execution_count": 79,
     "metadata": {},
     "output_type": "execute_result"
    }
   ],
   "source": [
    "hax.pad_left(arr, config.Pos, hax.Axis(\"ex\", size=1025))"
   ]
  },
  {
   "cell_type": "code",
   "execution_count": 81,
   "metadata": {},
   "outputs": [],
   "source": [
    "a  = hax.random.uniform(jax.random.PRNGKey(0), (config.Pos, config.Embed))"
   ]
  },
  {
   "cell_type": "code",
   "execution_count": 82,
   "metadata": {},
   "outputs": [
    {
     "data": {
      "text/plain": [
       "NamedArray(array=Array(472963, dtype=int32), axes=())"
      ]
     },
     "execution_count": 82,
     "metadata": {},
     "output_type": "execute_result"
    }
   ],
   "source": [
    "hax.argmax(a)"
   ]
  },
  {
   "cell_type": "code",
   "execution_count": 88,
   "metadata": {},
   "outputs": [],
   "source": [
    "import jax.numpy as jnp\n",
    "\n",
    "# Original array, shape = (2, 3, 4)\n",
    "x = jnp.array([[[0, 1, 2, 3], [4, 5, 6, 7], [8, 9, 10, 11]],\n",
    "               [[12, 13, 14, 15], [16, 17, 18, 19], [20, 21, 22, 23]]])\n",
    "\n",
    "# Transpose, shape now becomes (3, 4, 2)\n",
    "y = jnp.transpose(x, (1, 2, 0))\n"
   ]
  },
  {
   "cell_type": "code",
   "execution_count": 100,
   "metadata": {},
   "outputs": [
    {
     "data": {
      "text/plain": [
       "(Axis(name='position', size=1024),)"
      ]
     },
     "execution_count": 100,
     "metadata": {},
     "output_type": "execute_result"
    }
   ],
   "source": [
    "a.axes[:1]"
   ]
  },
  {
   "cell_type": "code",
   "execution_count": 101,
   "metadata": {},
   "outputs": [],
   "source": [
    "a = hax.Axis('a',1 )\n",
    "aa  = hax.Axis('a', 2)"
   ]
  },
  {
   "cell_type": "code",
   "execution_count": 103,
   "metadata": {},
   "outputs": [
    {
     "ename": "ValueError",
     "evalue": "Axes must be unique, but (Axis(name='a', size=1), Axis(name='a', size=2)) are not",
     "output_type": "error",
     "traceback": [
      "\u001b[0;31m---------------------------------------------------------------------------\u001b[0m",
      "\u001b[0;31mValueError\u001b[0m                                Traceback (most recent call last)",
      "Cell \u001b[0;32mIn[103], line 1\u001b[0m\n\u001b[0;32m----> 1\u001b[0m hax\u001b[39m.\u001b[39;49mones((a, aa))\n",
      "File \u001b[0;32m~/anaconda3/envs/jax/lib/python3.11/site-packages/haliax/__init__.py:50\u001b[0m, in \u001b[0;36mones\u001b[0;34m(shape, dtype)\u001b[0m\n\u001b[1;32m     48\u001b[0m \u001b[39mif\u001b[39;00m dtype \u001b[39mis\u001b[39;00m \u001b[39mNone\u001b[39;00m:\n\u001b[1;32m     49\u001b[0m     dtype \u001b[39m=\u001b[39m jnp\u001b[39m.\u001b[39mfloat32\n\u001b[0;32m---> 50\u001b[0m \u001b[39mreturn\u001b[39;00m full(shape, \u001b[39m1\u001b[39;49m, dtype)\n",
      "File \u001b[0;32m~/anaconda3/envs/jax/lib/python3.11/site-packages/haliax/__init__.py:59\u001b[0m, in \u001b[0;36mfull\u001b[0;34m(shape, fill_value, dtype)\u001b[0m\n\u001b[1;32m     57\u001b[0m \u001b[39melse\u001b[39;00m:\n\u001b[1;32m     58\u001b[0m     x_shape \u001b[39m=\u001b[39m \u001b[39mtuple\u001b[39m(x\u001b[39m.\u001b[39msize \u001b[39mfor\u001b[39;00m x \u001b[39min\u001b[39;00m shape)\n\u001b[0;32m---> 59\u001b[0m     \u001b[39mreturn\u001b[39;00m NamedArray(jnp\u001b[39m.\u001b[39;49mfull(shape\u001b[39m=\u001b[39;49mx_shape, fill_value\u001b[39m=\u001b[39;49mfill_value, dtype\u001b[39m=\u001b[39;49mdtype), \u001b[39mtuple\u001b[39;49m(shape))\n",
      "File \u001b[0;32m<string>:5\u001b[0m, in \u001b[0;36m__init__\u001b[0;34m(self, array, axes)\u001b[0m\n",
      "File \u001b[0;32m~/anaconda3/envs/jax/lib/python3.11/site-packages/haliax/core.py:65\u001b[0m, in \u001b[0;36mNamedArray.__post_init__\u001b[0;34m(self)\u001b[0m\n\u001b[1;32m     63\u001b[0m \u001b[39m# ensure unique axes for now\u001b[39;00m\n\u001b[1;32m     64\u001b[0m \u001b[39mif\u001b[39;00m \u001b[39mlen\u001b[39m(\u001b[39mset\u001b[39m(a\u001b[39m.\u001b[39mname \u001b[39mfor\u001b[39;00m a \u001b[39min\u001b[39;00m \u001b[39mself\u001b[39m\u001b[39m.\u001b[39maxes)) \u001b[39m!=\u001b[39m \u001b[39mlen\u001b[39m(\u001b[39mself\u001b[39m\u001b[39m.\u001b[39maxes):\n\u001b[0;32m---> 65\u001b[0m     \u001b[39mraise\u001b[39;00m \u001b[39mValueError\u001b[39;00m(\u001b[39mf\u001b[39m\u001b[39m\"\u001b[39m\u001b[39mAxes must be unique, but \u001b[39m\u001b[39m{\u001b[39;00m\u001b[39mself\u001b[39m\u001b[39m.\u001b[39maxes\u001b[39m}\u001b[39;00m\u001b[39m are not\u001b[39m\u001b[39m\"\u001b[39m)\n\u001b[1;32m     67\u001b[0m \u001b[39mif\u001b[39;00m are_shape_checks_enabled():\n\u001b[1;32m     68\u001b[0m     \u001b[39mself\u001b[39m\u001b[39m.\u001b[39m_ensure_shape_matches_axes()\n",
      "\u001b[0;31mValueError\u001b[0m: Axes must be unique, but (Axis(name='a', size=1), Axis(name='a', size=2)) are not"
     ]
    }
   ],
   "source": [
    "hax.ones((a, aa))"
   ]
  },
  {
   "cell_type": "code",
   "execution_count": 1,
   "metadata": {},
   "outputs": [
    {
     "name": "stdout",
     "output_type": "stream",
     "text": [
      "Help on function cosine_decay_schedule in module optax._src.schedule:\n",
      "\n",
      "cosine_decay_schedule(init_value: float, decay_steps: int, alpha: float = 0.0, exponent: float = 1.0) -> Callable[[Union[jax.Array, numpy.ndarray, numpy.bool_, numpy.number, float, int]], Union[jax.Array, numpy.ndarray, numpy.bool_, numpy.number, float, int]]\n",
      "    Returns a function which implements cosine learning rate decay.\n",
      "    \n",
      "    The schedule does not restart when ``decay_steps`` has been reached. Instead,\n",
      "    the learning rate remains constant afterwards. For a cosine schedule with\n",
      "    restarts, :func:`optax.join_schedules` can be used to join several cosine\n",
      "    decay schedules.\n",
      "    \n",
      "    For more details see: https://arxiv.org/abs/1608.03983.\n",
      "    \n",
      "    Args:\n",
      "      init_value: An initial value `init_v`.\n",
      "      decay_steps: Positive integer - the number of steps for which to apply\n",
      "        the decay for.\n",
      "      alpha: Float. The minimum value of the multiplier used to adjust the\n",
      "        learning rate.\n",
      "      exponent: Float. The default decay is 0.5 * (1 + cos(pi * t/T)), where t is\n",
      "        the current timestep and T is the `decay_steps`. The exponent modifies\n",
      "        this to be (0.5 * (1 + cos(pi * t/T))) ** exponent. Defaults to 1.0.\n",
      "    \n",
      "    Returns:\n",
      "      schedule: A function that maps step counts to values.\n",
      "\n"
     ]
    }
   ],
   "source": []
  },
  {
   "cell_type": "code",
   "execution_count": 2,
   "metadata": {},
   "outputs": [
    {
     "name": "stdout",
     "output_type": "stream",
     "text": [
      "Help on function linear_schedule in module optax._src.schedule:\n",
      "\n",
      "linear_schedule(init_value: Union[float, int], end_value: Union[float, int], transition_steps: int, transition_begin: int = 0) -> Callable[[Union[jax.Array, numpy.ndarray, numpy.bool_, numpy.number, float, int]], Union[jax.Array, numpy.ndarray, numpy.bool_, numpy.number, float, int]]\n",
      "    # Alias polynomial schedule to linear schedule for convenience.\n",
      "\n"
     ]
    }
   ],
   "source": []
  },
  {
   "cell_type": "code",
   "execution_count": 3,
   "metadata": {},
   "outputs": [],
   "source": [
    "import jmp"
   ]
  },
  {
   "cell_type": "code",
   "execution_count": 4,
   "metadata": {},
   "outputs": [
    {
     "name": "stdout",
     "output_type": "stream",
     "text": [
      "Help on function get_policy in module jmp._src.policy:\n",
      "\n",
      "get_policy(policy_name: str) -> jmp._src.policy.Policy\n",
      "    Returns a mixed precision policy parsed from a string.\n",
      "\n"
     ]
    }
   ],
   "source": [
    "help(jmp.get_policy)"
   ]
  },
  {
   "cell_type": "code",
   "execution_count": 5,
   "metadata": {},
   "outputs": [
    {
     "data": {
      "text/plain": [
       "Policy(param_dtype=<class 'jax.numpy.float32'>, compute_dtype=<class 'jax.numpy.float32'>, output_dtype=<class 'jax.numpy.float32'>)"
      ]
     },
     "execution_count": 5,
     "metadata": {},
     "output_type": "execute_result"
    }
   ],
   "source": [
    "jmp.get_policy(\"f32\")"
   ]
  },
  {
   "cell_type": "code",
   "execution_count": 8,
   "metadata": {},
   "outputs": [],
   "source": [
    "x =  dict(num_layers=12, num_heads=12, hidden_dim=768)"
   ]
  },
  {
   "cell_type": "code",
   "execution_count": 9,
   "metadata": {},
   "outputs": [
    {
     "data": {
      "text/plain": [
       "{'num_layers': 12, 'num_heads': 12, 'hidden_dim': 768}"
      ]
     },
     "execution_count": 9,
     "metadata": {},
     "output_type": "execute_result"
    }
   ],
   "source": [
    "x"
   ]
  },
  {
   "cell_type": "code",
   "execution_count": 13,
   "metadata": {},
   "outputs": [
    {
     "data": {
      "text/plain": [
       "'num_layers=12 num_heads=12 hidden_dim=768'"
      ]
     },
     "execution_count": 13,
     "metadata": {},
     "output_type": "execute_result"
    }
   ],
   "source": []
  },
  {
   "cell_type": "code",
   "execution_count": 1,
   "metadata": {},
   "outputs": [],
   "source": [
    "import haliax as hax\n",
    "import jax\n",
    "\n",
    "Vocab = hax.Axis(\"vocab\", 10)\n",
    "ones = hax.ones((Vocab,))\n",
    "top5 = hax.top_k(ones, Vocab, 5)"
   ]
  },
  {
   "cell_type": "code",
   "execution_count": 3,
   "metadata": {},
   "outputs": [
    {
     "name": "stdout",
     "output_type": "stream",
     "text": [
      "Help on function categorical in module haliax.random:\n",
      "\n",
      "categorical(key, logits: haliax.core.NamedArray, axis: Union[haliax.axis.Axis, str], shape: Union[haliax.axis.Axis, Sequence[haliax.axis.Axis], NoneType] = None)\n",
      "    Sample random values from categorical distributions.\n",
      "    \n",
      "    Args:\n",
      "      key: a PRNG key used as the random key.\n",
      "      logits: Unnormalized log probabilities of the categorical distribution(s) to sample from,\n",
      "        so that `softmax(logits, axis)` gives the corresponding probabilities.\n",
      "      axis: Axis along which logits belong to the same categorical distribution.\n",
      "      shape: A tuple of axes representing the result shape, or None. if None, the shape is\n",
      "        `logits.axes - {axis}`. If not None, `logits.axes - {axis}`  must be a subset of shape.\n",
      "    Returns:\n",
      "      A random array with int dtype and shape given by ``shape``\n",
      "\n"
     ]
    }
   ],
   "source": [
    "help(hax.random.categorical)"
   ]
  },
  {
   "cell_type": "code",
   "execution_count": 4,
   "metadata": {},
   "outputs": [
    {
     "name": "stderr",
     "output_type": "stream",
     "text": [
      "/Users/rohanmehta/anaconda3/envs/jax/lib/python3.11/site-packages/haliax/core.py:196: UserWarning: Found axis with same name but different size.\n",
      "  warnings.warn(\"Found axis with same name but different size.\", UserWarning)\n"
     ]
    },
    {
     "data": {
      "text/plain": [
       "NamedArray(array=Array(3, dtype=int32), axes=())"
      ]
     },
     "execution_count": 4,
     "metadata": {},
     "output_type": "execute_result"
    }
   ],
   "source": [
    "hax.random.categorical(\n",
    "    logits=top5,\n",
    "    axis=Vocab,\n",
    "    key=jax.random.PRNGKey(0)\n",
    ")"
   ]
  },
  {
   "cell_type": "code",
   "execution_count": 5,
   "metadata": {},
   "outputs": [],
   "source": [
    "import optax"
   ]
  },
  {
   "cell_type": "code",
   "execution_count": 7,
   "metadata": {},
   "outputs": [
    {
     "data": {
      "text/plain": [
       "GradientTransformationExtraArgs(init=<function chain.<locals>.init_fn at 0x16396d3a0>, update=<function chain.<locals>.update_fn at 0x16396d580>)"
      ]
     },
     "execution_count": 7,
     "metadata": {},
     "output_type": "execute_result"
    }
   ],
   "source": [
    "optax.adamw(learning_rate=1e-4)"
   ]
  },
  {
   "cell_type": "code",
   "execution_count": 8,
   "metadata": {},
   "outputs": [
    {
     "data": {
      "text/plain": [
       "function"
      ]
     },
     "execution_count": 8,
     "metadata": {},
     "output_type": "execute_result"
    }
   ],
   "source": [
    "type(optax.linear_schedule)"
   ]
  },
  {
   "cell_type": "code",
   "execution_count": 9,
   "metadata": {},
   "outputs": [],
   "source": [
    "import jaxtyping as j"
   ]
  },
  {
   "cell_type": "code",
   "execution_count": 11,
   "metadata": {},
   "outputs": [],
   "source": [
    "import jaxtyping"
   ]
  },
  {
   "cell_type": "code",
   "execution_count": 16,
   "metadata": {},
   "outputs": [
    {
     "data": {
      "text/plain": [
       "jaxtyping.UInt32[Array, '2']"
      ]
     },
     "execution_count": 16,
     "metadata": {},
     "output_type": "execute_result"
    }
   ],
   "source": [
    "jaxtyping.PRNGKeyArray"
   ]
  },
  {
   "cell_type": "code",
   "execution_count": null,
   "metadata": {},
   "outputs": [],
   "source": []
  }
 ],
 "metadata": {
  "kernelspec": {
   "display_name": "jax",
   "language": "python",
   "name": "python3"
  },
  "language_info": {
   "codemirror_mode": {
    "name": "ipython",
    "version": 3
   },
   "file_extension": ".py",
   "mimetype": "text/x-python",
   "name": "python",
   "nbconvert_exporter": "python",
   "pygments_lexer": "ipython3",
   "version": "3.11.4"
  },
  "orig_nbformat": 4
 },
 "nbformat": 4,
 "nbformat_minor": 2
}
