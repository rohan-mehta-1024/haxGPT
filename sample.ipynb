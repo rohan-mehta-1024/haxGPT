{
 "cells": [
  {
   "cell_type": "code",
   "execution_count": 9,
   "metadata": {},
   "outputs": [],
   "source": [
    "import torch\n",
    "from model import GPT2, GPT2Config\n",
    "import jax\n",
    "import jax.numpy as jnp"
   ]
  },
  {
   "cell_type": "code",
   "execution_count": 2,
   "metadata": {},
   "outputs": [],
   "source": [
    "sd = torch.load('ckpt.pt')"
   ]
  },
  {
   "cell_type": "code",
   "execution_count": 3,
   "metadata": {},
   "outputs": [
    {
     "data": {
      "text/plain": [
       "(3500, Array(1.916147, dtype=float32))"
      ]
     },
     "execution_count": 3,
     "metadata": {},
     "output_type": "execute_result"
    }
   ],
   "source": [
    "model = sd['model']\n",
    "sd['step'], sd['best_val_loss']"
   ]
  },
  {
   "cell_type": "code",
   "execution_count": 37,
   "metadata": {},
   "outputs": [],
   "source": [
    "#sd.keys() # save config in future\n",
    "config = GPT2Config(\n",
    "    seq_len     = 64,\n",
    "    num_layers  = 4,\n",
    "    num_heads   = 4,\n",
    "    hidden_dims = 128,\n",
    "    vocab_size  = 65,\n",
    "    dropout     = 0.0\n",
    ")\n",
    "raw_model = GPT2.init(config, key=jax.random.PRNGKey(0))"
   ]
  },
  {
   "cell_type": "code",
   "execution_count": 38,
   "metadata": {},
   "outputs": [],
   "source": [
    "loaded_model = raw_model.from_state_dict(model, prefix=None)"
   ]
  },
  {
   "cell_type": "code",
   "execution_count": 55,
   "metadata": {},
   "outputs": [],
   "source": [
    "\n",
    "out = loaded_model.generate(\n",
    "        seq=jnp.array([0]),\n",
    "        max_new_tokens=50,\n",
    "        temperature=1.0,\n",
    "        key=jax.random.PRNGKey(0)\n",
    ")"
   ]
  },
  {
   "cell_type": "code",
   "execution_count": 53,
   "metadata": {},
   "outputs": [
    {
     "data": {
      "text/plain": [
       "[0, 32, 56, 43, 39, 58, 1, 58, 47, 57, 43]"
      ]
     },
     "execution_count": 53,
     "metadata": {},
     "output_type": "execute_result"
    }
   ],
   "source": [
    "out[-51:].tolist()"
   ]
  },
  {
   "cell_type": "code",
   "execution_count": 45,
   "metadata": {},
   "outputs": [],
   "source": [
    "import os\n",
    "import pickle\n",
    "\n",
    "# Assuming 'meta.pkl' is a pickle file\n",
    "file_path = os.path.join('data/shakespeare', 'meta.pkl')\n",
    "\n",
    "with open(file_path, 'rb') as file:\n",
    "    # Load the content of the file\n",
    "    data = pickle.load(file)\n",
    "\n",
    "# Now you can use the 'data' variable which contains the data from 'meta.pkl'\n"
   ]
  },
  {
   "cell_type": "code",
   "execution_count": 49,
   "metadata": {},
   "outputs": [],
   "source": [
    "itos = data['itos']\n",
    "def decode(l):\n",
    "    return ''.join([itos[i] for i in l]) # decoder: take a list of integers, output a string\n"
   ]
  },
  {
   "cell_type": "code",
   "execution_count": 56,
   "metadata": {},
   "outputs": [
    {
     "data": {
      "text/plain": [
       "'\\nTreat tisent degenson. Naward and his your me!\\nI t'"
      ]
     },
     "execution_count": 56,
     "metadata": {},
     "output_type": "execute_result"
    }
   ],
   "source": [
    "decode(out[-51:].tolist())"
   ]
  }
 ],
 "metadata": {
  "kernelspec": {
   "display_name": "jax",
   "language": "python",
   "name": "python3"
  },
  "language_info": {
   "codemirror_mode": {
    "name": "ipython",
    "version": 3
   },
   "file_extension": ".py",
   "mimetype": "text/x-python",
   "name": "python",
   "nbconvert_exporter": "python",
   "pygments_lexer": "ipython3",
   "version": "3.11.4"
  },
  "orig_nbformat": 4
 },
 "nbformat": 4,
 "nbformat_minor": 2
}
